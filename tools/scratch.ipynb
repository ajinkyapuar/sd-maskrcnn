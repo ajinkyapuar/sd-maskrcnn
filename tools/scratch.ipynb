{
 "cells": [
  {
   "cell_type": "code",
   "execution_count": null,
   "metadata": {},
   "outputs": [],
   "source": [
    "%load_ext autoreload\n",
    "%autoreload 2\n",
    "\n",
    "import os\n",
    "import sys\n",
    "import argparse\n",
    "from tqdm import tqdm\n",
    "import numpy as np\n",
    "import skimage.io as io\n",
    "import matplotlib.pyplot as plt\n",
    "import tensorflow as tf\n",
    "\n",
    "from autolab_core import YamlConfig\n",
    "\n",
    "from sd_maskrcnn import utils\n",
    "from sd_maskrcnn.config import MaskConfig\n",
    "from sd_maskrcnn.dataset import ImageDataset\n",
    "from sd_maskrcnn.coco_benchmark import coco_benchmark\n",
    "\n",
    "from mrcnn import model as modellib, utils as utilslib, visualize"
   ]
  },
  {
   "cell_type": "code",
   "execution_count": null,
   "metadata": {},
   "outputs": [],
   "source": [
    "config = YamlConfig('../cfg/benchmark.yaml')\n",
    "inference_config = MaskConfig(config['model']['settings'])\n",
    "inference_config.GPU_COUNT = 1\n",
    "inference_config.IMAGES_PER_GPU = 1"
   ]
  },
  {
   "cell_type": "code",
   "execution_count": null,
   "metadata": {},
   "outputs": [],
   "source": [
    "with tf.device('/gpu:0'):\n",
    "    model = modellib.MaskRCNN(mode=config['model']['mode'], \n",
    "                          config=inference_config, \n",
    "                          model_dir=os.path.split(config['model']['path'])[0])"
   ]
  },
  {
   "cell_type": "code",
   "execution_count": null,
   "metadata": {},
   "outputs": [],
   "source": [
    "import matplotlib.patches as patches\n",
    "\n",
    "input_image = io.imread('/nfs/diskstation/projects/dex-net/segmentation/physical_experiments/single_obj_images/phoxi/images/climbing_hold_000007.png')\n",
    "input_image, _, _, _, _ = utilslib.resize_image(input_image, 512, 512)\n",
    "plt.imshow(input_image)\n",
    "plt.show()\n",
    "\n",
    "mask = np.sum(input_image, axis=2) != 0\n",
    "mask = mask.reshape((mask.shape[0], mask.shape[1], 1))\n",
    "bb = utilslib.extract_bboxes(mask)\n",
    "\n",
    "bb = bb[0] \n",
    "print(bb)\n",
    "float_bb = [bb[0] / mask.shape[0], bb[1] / mask.shape[1], bb[2] / mask.shape[0], \n",
    "     bb[3] / mask.shape[1]]\n",
    "\n",
    "fix, ax = plt.subplots(1)\n",
    "\n",
    "plt.imshow(np.sum(input_image, axis=2) != 0)\n",
    "ax.add_patch(patches.Rectangle((bb[1], bb[0]), bb[3] - bb[1], bb[2] - bb[0],\n",
    "                               facecolor='none', edgecolor='r')) \n",
    "plt.show()\n",
    "\n",
    "print(float_bb)\n",
    "\n",
    "plt.imshow(input_image[bb[0]:bb[2], bb[1]:bb[3]])\n",
    "target=input_image[bb[0]:bb[2], bb[1]:bb[3]]"
   ]
  },
  {
   "cell_type": "code",
   "execution_count": null,
   "metadata": {},
   "outputs": [],
   "source": [
    "filepath='/nfs/diskstation/projects/dex-net/segmentation/models/mask_rcnn_coco_ft_wisdom_color_primesense_20180915-004228.h5'\n",
    "import h5py\n",
    "from keras.engine import saving\n",
    "\n",
    "f = h5py.File(filepath, mode='r')\n",
    "saving.load_attributes_from_hdf5_group(f, 'layer_names')"
   ]
  },
  {
   "cell_type": "code",
   "execution_count": null,
   "metadata": {
    "scrolled": true
   },
   "outputs": [],
   "source": [
    "model.load_weights_from_sd_mrcnn_model(filepath='/nfs/diskstation/projects/dex-net/segmentation/models/mask_rcnn_coco_ft_wisdom_color_primesense_20180915-004228.h5')"
   ]
  },
  {
   "cell_type": "code",
   "execution_count": null,
   "metadata": {},
   "outputs": [],
   "source": [
    "model.keras_model.summary()"
   ]
  },
  {
   "cell_type": "code",
   "execution_count": null,
   "metadata": {},
   "outputs": [],
   "source": [
    "results, siamese_output = model.detect([input_image], [target], verbose=1)"
   ]
  },
  {
   "cell_type": "code",
   "execution_count": null,
   "metadata": {},
   "outputs": [],
   "source": [
    "results"
   ]
  },
  {
   "cell_type": "code",
   "execution_count": null,
   "metadata": {},
   "outputs": [],
   "source": [
    "import matplotlib.pyplot as plt\n",
    "r = results[0]\n",
    "_, ax = plt.subplots(1,1, figsize=(12,12))\n",
    "visualize.display_instances(input_image, r['rois'], r['masks'], r['class_ids'], ['bg', 'obj'],\n",
    "                            r['scores'], ax=ax, title='Predictions')"
   ]
  },
  {
   "cell_type": "code",
   "execution_count": null,
   "metadata": {},
   "outputs": [],
   "source": [
    "siamese_output.shape\n",
    "for anchor in siamese_output[0]:\n",
    "    print(np.linalg.norm(anchor, ord=1))"
   ]
  }
 ],
 "metadata": {
  "kernelspec": {
   "display_name": "Python 3",
   "language": "python",
   "name": "python3"
  },
  "language_info": {
   "codemirror_mode": {
    "name": "ipython",
    "version": 3
   },
   "file_extension": ".py",
   "mimetype": "text/x-python",
   "name": "python",
   "nbconvert_exporter": "python",
   "pygments_lexer": "ipython3",
   "version": "3.5.2"
  }
 },
 "nbformat": 4,
 "nbformat_minor": 2
}
